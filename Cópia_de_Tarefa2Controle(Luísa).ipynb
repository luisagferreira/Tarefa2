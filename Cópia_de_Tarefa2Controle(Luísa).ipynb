{
  "nbformat": 4,
  "nbformat_minor": 0,
  "metadata": {
    "colab": {
      "name": "Cópia de Tarefa2Controle(Luísa).ipynb",
      "provenance": []
    },
    "kernelspec": {
      "name": "python3",
      "display_name": "Python 3"
    }
  },
  "cells": [
    {
      "cell_type": "code",
      "metadata": {
        "colab": {
          "base_uri": "https://localhost:8080/"
        },
        "id": "bXDRM1web6xK",
        "outputId": "ad353e4c-e616-4845-e195-38a6ef19a38a"
      },
      "source": [
        "pip install control\r\n"
      ],
      "execution_count": null,
      "outputs": [
        {
          "output_type": "stream",
          "text": [
            "Collecting control\n",
            "\u001b[?25l  Downloading https://files.pythonhosted.org/packages/e9/7f/e903340dde3ad2be21578828a23d80b47f4163443310882b05da96fba5f4/control-0.8.4.tar.gz (261kB)\n",
            "\u001b[K     |████████████████████████████████| 266kB 7.8MB/s \n",
            "\u001b[?25hRequirement already satisfied: numpy in /usr/local/lib/python3.6/dist-packages (from control) (1.19.5)\n",
            "Requirement already satisfied: scipy in /usr/local/lib/python3.6/dist-packages (from control) (1.4.1)\n",
            "Requirement already satisfied: matplotlib in /usr/local/lib/python3.6/dist-packages (from control) (3.2.2)\n",
            "Requirement already satisfied: kiwisolver>=1.0.1 in /usr/local/lib/python3.6/dist-packages (from matplotlib->control) (1.3.1)\n",
            "Requirement already satisfied: cycler>=0.10 in /usr/local/lib/python3.6/dist-packages (from matplotlib->control) (0.10.0)\n",
            "Requirement already satisfied: pyparsing!=2.0.4,!=2.1.2,!=2.1.6,>=2.0.1 in /usr/local/lib/python3.6/dist-packages (from matplotlib->control) (2.4.7)\n",
            "Requirement already satisfied: python-dateutil>=2.1 in /usr/local/lib/python3.6/dist-packages (from matplotlib->control) (2.8.1)\n",
            "Requirement already satisfied: six in /usr/local/lib/python3.6/dist-packages (from cycler>=0.10->matplotlib->control) (1.15.0)\n",
            "Building wheels for collected packages: control\n",
            "  Building wheel for control (setup.py) ... \u001b[?25l\u001b[?25hdone\n",
            "  Created wheel for control: filename=control-0.8.4-py2.py3-none-any.whl size=276947 sha256=4f679a7fbe944c09b527e1e1b245eb3aa738d85c99e50b090fdbd7b9fb23ed72\n",
            "  Stored in directory: /root/.cache/pip/wheels/3e/a4/9a/8b6ad43fcb2aba7debf8188b60a3def7aaa9a11582b7929ead\n",
            "Successfully built control\n",
            "Installing collected packages: control\n",
            "Successfully installed control-0.8.4\n"
          ],
          "name": "stdout"
        }
      ]
    },
    {
      "cell_type": "markdown",
      "metadata": {
        "id": "GZVbfp39dXjl"
      },
      "source": [
        "Importação da biblioteca"
      ]
    },
    {
      "cell_type": "code",
      "metadata": {
        "id": "HPkma8VhddhV"
      },
      "source": [
        "import control.matlab as ctr"
      ],
      "execution_count": null,
      "outputs": []
    },
    {
      "cell_type": "markdown",
      "metadata": {
        "id": "vImsE9KtmswV"
      },
      "source": [
        "**Exercício 1:**"
      ]
    },
    {
      "cell_type": "code",
      "metadata": {
        "colab": {
          "base_uri": "https://localhost:8080/"
        },
        "id": "6mE0F7NieEw1",
        "outputId": "bb728a8f-83b8-434b-c967-0f2fcbb5390e"
      },
      "source": [
        "num1=[2]\r\n",
        "den1=[1]\r\n",
        "G1=ctr.tf(num1,den1)\r\n",
        "print(G1)\r\n"
      ],
      "execution_count": null,
      "outputs": [
        {
          "output_type": "stream",
          "text": [
            "\n",
            "2\n",
            "-\n",
            "1\n",
            "\n"
          ],
          "name": "stdout"
        }
      ]
    },
    {
      "cell_type": "code",
      "metadata": {
        "colab": {
          "base_uri": "https://localhost:8080/"
        },
        "id": "nIboopa1koHZ",
        "outputId": "ab691654-1015-4ee9-e0bb-f44137e0bac8"
      },
      "source": [
        "num2=[4]\r\n",
        "den2=[1,0]\r\n",
        "G2=ctr.tf(num2,den2)\r\n",
        "print(G2)"
      ],
      "execution_count": null,
      "outputs": [
        {
          "output_type": "stream",
          "text": [
            "\n",
            "4\n",
            "-\n",
            "s\n",
            "\n"
          ],
          "name": "stdout"
        }
      ]
    },
    {
      "cell_type": "code",
      "metadata": {
        "colab": {
          "base_uri": "https://localhost:8080/"
        },
        "id": "2mOjkpVVk4Xj",
        "outputId": "18ea5dd9-e03e-4d6e-f660-91d37e36db7e"
      },
      "source": [
        "num3=[1]\r\n",
        "den3=[1,0]\r\n",
        "G3=ctr.tf(num3,den3)\r\n",
        "print(G3)"
      ],
      "execution_count": null,
      "outputs": [
        {
          "output_type": "stream",
          "text": [
            "\n",
            "1\n",
            "-\n",
            "s\n",
            "\n"
          ],
          "name": "stdout"
        }
      ]
    },
    {
      "cell_type": "markdown",
      "metadata": {
        "id": "PrmdHpnenR30"
      },
      "source": [
        "**Bloco 1(soma):**\r\n"
      ]
    },
    {
      "cell_type": "code",
      "metadata": {
        "colab": {
          "base_uri": "https://localhost:8080/"
        },
        "id": "FctUIa_0ncVc",
        "outputId": "a5e36c42-2610-4f1e-e339-2e177089d432"
      },
      "source": [
        "Gsoma=G1+G2\r\n",
        "print(Gsoma)"
      ],
      "execution_count": null,
      "outputs": [
        {
          "output_type": "stream",
          "text": [
            "\n",
            "2 s + 4\n",
            "-------\n",
            "   s\n",
            "\n"
          ],
          "name": "stdout"
        }
      ]
    },
    {
      "cell_type": "markdown",
      "metadata": {
        "id": "8hVccgzpnoeH"
      },
      "source": [
        "**Bloco 2(multiplicação):**"
      ]
    },
    {
      "cell_type": "code",
      "metadata": {
        "colab": {
          "base_uri": "https://localhost:8080/"
        },
        "id": "grUsBa0pntvG",
        "outputId": "05183e0b-e0ed-4b8e-bae1-4d7c1a5d3365"
      },
      "source": [
        "Gmulti=G3*Gsoma\r\n",
        "print(Gmulti)"
      ],
      "execution_count": null,
      "outputs": [
        {
          "output_type": "stream",
          "text": [
            "\n",
            "2 s + 4\n",
            "-------\n",
            "  s^2\n",
            "\n"
          ],
          "name": "stdout"
        }
      ]
    },
    {
      "cell_type": "markdown",
      "metadata": {
        "id": "eVXoGqwgn_-8"
      },
      "source": [
        "**Exercício 2:**"
      ]
    },
    {
      "cell_type": "code",
      "metadata": {
        "colab": {
          "base_uri": "https://localhost:8080/"
        },
        "id": "4FzgHRTNoEGT",
        "outputId": "74857269-f044-4f80-a08f-d70314b18a0e"
      },
      "source": [
        "numEx2=[25]\r\n",
        "denEx2=[1,6,25]\r\n",
        "GEx2=ctr.tf(numEx2,denEx2)\r\n",
        "print(GEx2)\r\n"
      ],
      "execution_count": null,
      "outputs": [
        {
          "output_type": "stream",
          "text": [
            "\n",
            "      25\n",
            "--------------\n",
            "s^2 + 6 s + 25\n",
            "\n"
          ],
          "name": "stdout"
        }
      ]
    },
    {
      "cell_type": "markdown",
      "metadata": {
        "id": "uLyCsILUokmd"
      },
      "source": [
        "**Importação Matplotlib**\r\n",
        "\r\n",
        "\r\n"
      ]
    },
    {
      "cell_type": "code",
      "metadata": {
        "id": "-HJTrk7souDa"
      },
      "source": [
        "import matplotlib.pyplot as plt"
      ],
      "execution_count": null,
      "outputs": []
    },
    {
      "cell_type": "markdown",
      "metadata": {
        "id": "bbFHbKf9pYi0"
      },
      "source": [
        "**Analise:**"
      ]
    },
    {
      "cell_type": "code",
      "metadata": {
        "id": "u-LDdUEfpdHx"
      },
      "source": [
        "y,t=ctr.step(GEx2)\r\n"
      ],
      "execution_count": null,
      "outputs": []
    },
    {
      "cell_type": "code",
      "metadata": {
        "colab": {
          "base_uri": "https://localhost:8080/",
          "height": 380
        },
        "id": "pxE7n2BVqEVG",
        "outputId": "53e9bbbd-d4fb-4d45-d3ba-49efefe23db6"
      },
      "source": [
        "wn=5\r\n",
        "z=0.6\r\n",
        "\r\n",
        "F=ctr.tf([wn**2],[1,2*z*wn,wn**2])\r\n",
        "y,t=ctr.step(F)\r\n",
        "\r\n",
        "plt.plot(t,y)\r\n",
        "plt.xlabel('Tempo, Segundos')\r\n",
        "plt.ylabel('Saída $y(t)$')\r\n",
        "plt.title('Resposta ao degrau unitário:')\r\n",
        "plt.grid()\r\n",
        "print(F)\r\n"
      ],
      "execution_count": null,
      "outputs": [
        {
          "output_type": "stream",
          "text": [
            "\n",
            "      25\n",
            "--------------\n",
            "s^2 + 6 s + 25\n",
            "\n"
          ],
          "name": "stdout"
        },
        {
          "output_type": "display_data",
          "data": {
            "image/png": "[encoded data removed]",
            "text/plain": [
              "<Figure size 432x288 with 1 Axes>"
            ]
          },
          "metadata": {
            "tags": [],
            "needs_background": "light"
          }
        }
      ]
    },
    {
      "cell_type": "code",
      "metadata": {
        "colab": {
          "base_uri": "https://localhost:8080/"
        },
        "id": "BNuD2LVXrJ2j",
        "outputId": "b7460461-0e22-429f-a126-c7727ef6bdca"
      },
      "source": [
        "ctr.damp(F)"
      ],
      "execution_count": null,
      "outputs": [
        {
          "output_type": "stream",
          "text": [
            "_____Eigenvalue______ Damping___ Frequency_\n",
            "        -3        +4j        0.6          5\n",
            "        -3        -4j        0.6          5\n"
          ],
          "name": "stdout"
        },
        {
          "output_type": "execute_result",
          "data": {
            "text/plain": [
              "(array([5., 5.]), array([0.6, 0.6]), array([-3.+4.j, -3.-4.j]))"
            ]
          },
          "metadata": {
            "tags": []
          },
          "execution_count": 23
        }
      ]
    },
    {
      "cell_type": "code",
      "metadata": {
        "colab": {
          "base_uri": "https://localhost:8080/"
        },
        "id": "mjwx9o2lsSHv",
        "outputId": "379eb0e5-9280-434b-8fe6-58a234f6f78b"
      },
      "source": [
        "ctr.stepinfo(F)\r\n"
      ],
      "execution_count": null,
      "outputs": [
        {
          "output_type": "execute_result",
          "data": {
            "text/plain": [
              "{'Overshoot': 10.433577015281607,\n",
              " 'Peak': 1.094772667846251,\n",
              " 'PeakTime': 0.7828789316179755,\n",
              " 'RiseTime': 0.3684136148790473,\n",
              " 'SettlingMax': 1.094772667846251,\n",
              " 'SettlingMin': 0.9082907585505842,\n",
              " 'SettlingTime': 1.2587465175034116,\n",
              " 'SteadyStateValue': 0.9913404033763737,\n",
              " 'Undershoot': 0.0}"
            ]
          },
          "metadata": {
            "tags": []
          },
          "execution_count": 24
        }
      ]
    },
    {
      "cell_type": "code",
      "metadata": {
        "id": "tifIPG7Usdkw"
      },
      "source": [
        ""
      ],
      "execution_count": null,
      "outputs": []
    }
  ]
}